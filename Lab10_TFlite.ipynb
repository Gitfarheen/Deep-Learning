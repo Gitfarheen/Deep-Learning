{
  "cells": [
    {
      "cell_type": "markdown",
      "metadata": {
        "id": "view-in-github",
        "colab_type": "text"
      },
      "source": [
        "<a href=\"https://colab.research.google.com/github/Gitfarheen/Deep-Learning/blob/main/Lab10_TFlite.ipynb\" target=\"_parent\"><img src=\"https://colab.research.google.com/assets/colab-badge.svg\" alt=\"Open In Colab\"/></a>"
      ]
    },
    {
      "cell_type": "code",
      "execution_count": 1,
      "id": "b1951764",
      "metadata": {
        "id": "b1951764",
        "outputId": "9b9a490c-6fce-447b-b2e7-466f51850980",
        "colab": {
          "base_uri": "https://localhost:8080/"
        }
      },
      "outputs": [
        {
          "output_type": "stream",
          "name": "stdout",
          "text": [
            "Downloading data from https://storage.googleapis.com/tensorflow/tf-keras-datasets/mnist.npz\n",
            "\u001b[1m11490434/11490434\u001b[0m \u001b[32m━━━━━━━━━━━━━━━━━━━━\u001b[0m\u001b[37m\u001b[0m \u001b[1m0s\u001b[0m 0us/step\n"
          ]
        },
        {
          "output_type": "stream",
          "name": "stderr",
          "text": [
            "/usr/local/lib/python3.10/dist-packages/keras/src/layers/convolutional/base_conv.py:107: UserWarning: Do not pass an `input_shape`/`input_dim` argument to a layer. When using Sequential models, prefer using an `Input(shape)` object as the first layer in the model instead.\n",
            "  super().__init__(activity_regularizer=activity_regularizer, **kwargs)\n"
          ]
        },
        {
          "output_type": "stream",
          "name": "stdout",
          "text": [
            "Epoch 1/2\n",
            "\u001b[1m1875/1875\u001b[0m \u001b[32m━━━━━━━━━━━━━━━━━━━━\u001b[0m\u001b[37m\u001b[0m \u001b[1m16s\u001b[0m 5ms/step - accuracy: 0.8676 - loss: 0.4416 - val_accuracy: 0.9771 - val_loss: 0.0719\n",
            "Epoch 2/2\n",
            "\u001b[1m1875/1875\u001b[0m \u001b[32m━━━━━━━━━━━━━━━━━━━━\u001b[0m\u001b[37m\u001b[0m \u001b[1m6s\u001b[0m 3ms/step - accuracy: 0.9764 - loss: 0.0777 - val_accuracy: 0.9816 - val_loss: 0.0551\n",
            "Saved artifact at '/tmp/tmp_fa7q3s_'. The following endpoints are available:\n",
            "\n",
            "* Endpoint 'serve'\n",
            "  args_0 (POSITIONAL_ONLY): TensorSpec(shape=(None, 28, 28, 1), dtype=tf.float32, name='keras_tensor')\n",
            "Output Type:\n",
            "  TensorSpec(shape=(None, 10), dtype=tf.float32, name=None)\n",
            "Captures:\n",
            "  133184837496400: TensorSpec(shape=(), dtype=tf.resource, name=None)\n",
            "  133184837497280: TensorSpec(shape=(), dtype=tf.resource, name=None)\n",
            "  133184837497808: TensorSpec(shape=(), dtype=tf.resource, name=None)\n",
            "  133184835504960: TensorSpec(shape=(), dtype=tf.resource, name=None)\n",
            "  133184835502672: TensorSpec(shape=(), dtype=tf.resource, name=None)\n",
            "  133184835506720: TensorSpec(shape=(), dtype=tf.resource, name=None)\n",
            "Quantized model has been saved as 'quantized_model.tflite'\n"
          ]
        }
      ],
      "source": [
        "import tensorflow as tf\n",
        "import numpy as np\n",
        "\n",
        "# Create a simple CNN model\n",
        "def create_model():\n",
        "    model = tf.keras.Sequential([\n",
        "        tf.keras.layers.Conv2D(16, (3, 3), activation='relu', input_shape=(28, 28, 1)),\n",
        "        tf.keras.layers.MaxPooling2D((2, 2)),\n",
        "        tf.keras.layers.Conv2D(32, (3, 3), activation='relu'),\n",
        "        tf.keras.layers.MaxPooling2D((2, 2)),\n",
        "        tf.keras.layers.Flatten(),\n",
        "        tf.keras.layers.Dense(10, activation='softmax')\n",
        "    ])\n",
        "    return model\n",
        "\n",
        "# Load and preprocess the data\n",
        "(x_train, y_train), (x_test, y_test) = tf.keras.datasets.mnist.load_data()\n",
        "x_train, x_test = x_train / 255.0, x_test / 255.0  # Normalize the data\n",
        "x_train = x_train[..., np.newaxis]  # Add channel dimension\n",
        "x_test = x_test[..., np.newaxis]\n",
        "\n",
        "# Compile and train the model briefly\n",
        "model = create_model()\n",
        "model.compile(optimizer='adam', loss='sparse_categorical_crossentropy', metrics=['accuracy'])\n",
        "model.fit(x_train, y_train, epochs=2, validation_data=(x_test, y_test))\n",
        "\n",
        "# Convert the trained model to TensorFlow Lite format with quantization\n",
        "converter = tf.lite.TFLiteConverter.from_keras_model(model)\n",
        "converter.optimizations = [tf.lite.Optimize.DEFAULT]  # Enable default quantization\n",
        "\n",
        "# Convert the model\n",
        "quantized_model = converter.convert()\n",
        "\n",
        "# Save the quantized model\n",
        "with open(\"quantized_model.tflite\", \"wb\") as f:\n",
        "    f.write(quantized_model)\n",
        "\n",
        "print(\"Quantized model has been saved as 'quantized_model.tflite'\")\n",
        "\n",
        "# Optional: Load and test the quantized model for inference\n",
        "interpreter = tf.lite.Interpreter(model_path=\"quantized_model.tflite\")\n",
        "interpreter.allocate_tensors()\n",
        "\n",
        "\n"
      ]
    },
    {
      "cell_type": "code",
      "execution_count": 3,
      "id": "3f4f0f7a",
      "metadata": {
        "id": "3f4f0f7a",
        "outputId": "504e03da-e974-450f-a5d8-20f6a478616d",
        "colab": {
          "base_uri": "https://localhost:8080/",
          "height": 476
        }
      },
      "outputs": [
        {
          "output_type": "stream",
          "name": "stdout",
          "text": [
            "Quantized model output: [[8.5564862e-09 3.2841899e-10 1.1957343e-06 4.1068023e-07 1.4408732e-12\n",
            "  4.5173340e-10 1.7940450e-15 9.9999630e-01 7.8194722e-09 2.0949335e-06]]\n",
            "Predicted class: 7\n",
            "Maximum value (confidence): 0.9999963\n"
          ]
        },
        {
          "output_type": "display_data",
          "data": {
            "text/plain": [
              "<Figure size 1000x400 with 2 Axes>"
            ],
            "image/png": "[encoded data removed]"
          },
          "metadata": {}
        }
      ],
      "source": [
        "import numpy as np\n",
        "import matplotlib.pyplot as plt\n",
        "\n",
        "# Get input and output details from the interpreter\n",
        "input_details = interpreter.get_input_details() # Get input tensor details\n",
        "output_details = interpreter.get_output_details() # Get output tensor details\n",
        "\n",
        "\n",
        "# Ensure the input sample is in FLOAT32 format\n",
        "sample_input = x_test[0:1].astype(np.float32)  # Take one sample and convert to FLOAT32\n",
        "interpreter.set_tensor(input_details[0]['index'], sample_input)\n",
        "interpreter.invoke()\n",
        "output_data = interpreter.get_tensor(output_details[0]['index'])\n",
        "\n",
        "# Find the maximum value in the model output and its index (predicted class)\n",
        "max_value = np.max(output_data)\n",
        "predicted_class = np.argmax(output_data)\n",
        "\n",
        "print(\"Quantized model output:\", output_data)\n",
        "print(\"Predicted class:\", predicted_class)\n",
        "print(\"Maximum value (confidence):\", max_value)\n",
        "\n",
        "# Plot the test image and the output data\n",
        "plt.figure(figsize=(10, 4))\n",
        "\n",
        "# Plot the test image\n",
        "plt.subplot(1, 2, 1)\n",
        "plt.imshow(x_test[0].squeeze(), cmap='gray')\n",
        "plt.title(\"Test Image\")\n",
        "plt.axis('off')\n",
        "\n",
        "# Plot the output confidence values\n",
        "plt.subplot(1, 2, 2)\n",
        "plt.bar(range(10), output_data[0], color='skyblue')\n",
        "plt.xlabel('Class')\n",
        "plt.ylabel('Confidence')\n",
        "plt.title(f'Predicted Class: {predicted_class} with Confidence: {max_value:.4f}')\n",
        "\n",
        "plt.tight_layout()\n",
        "plt.show()\n"
      ]
    },
    {
      "cell_type": "code",
      "execution_count": null,
      "id": "5a3f8fcd",
      "metadata": {
        "id": "5a3f8fcd"
      },
      "outputs": [],
      "source": []
    }
  ],
  "metadata": {
    "kernelspec": {
      "display_name": "Python 3",
      "name": "python3"
    },
    "language_info": {
      "codemirror_mode": {
        "name": "ipython",
        "version": 3
      },
      "file_extension": ".py",
      "mimetype": "text/x-python",
      "name": "python",
      "nbconvert_exporter": "python",
      "pygments_lexer": "ipython3",
      "version": "3.8.13"
    },
    "colab": {
      "provenance": [],
      "gpuType": "T4",
      "include_colab_link": true
    },
    "accelerator": "GPU"
  },
  "nbformat": 4,
  "nbformat_minor": 5
}